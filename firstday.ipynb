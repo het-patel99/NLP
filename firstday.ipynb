{
 "cells": [
  {
   "cell_type": "code",
   "execution_count": 8,
   "metadata": {},
   "outputs": [
    {
     "name": "stdout",
     "output_type": "stream",
     "text": [
      "Shakespeare didn't gave the world best of theatrics\n"
     ]
    }
   ],
   "source": [
    "a='''Shakespeare didn'\\t gave the world best of theatrics'''\n",
    "print(a)"
   ]
  },
  {
   "cell_type": "code",
   "execution_count": 5,
   "metadata": {},
   "outputs": [
    {
     "name": "stdout",
     "output_type": "stream",
     "text": [
      "William Shakespeare (bapt. 26 April 1564 – 23 April 1616)[a] was an English poet, playwright, and actor, widely regarded as the greatest writer in the English language and the world's greatest dramatist.[2][3][4] He is often called England's national poet and the \"Bard of Avon\" (or simply \"the Bard\").[5][b] His extant works, including collaborations, consist of some 39 plays,[c] 154 sonnets, two long narrative poems, and a few other verses, some of uncertain authorship. His plays have been translated into every major living language and are performed more often than those of any other playwright.\n"
     ]
    }
   ],
   "source": [
    "b='''William Shakespeare (bapt. 26 April 1564 – 23 April 1616)[a] was an English poet, playwright, and actor, widely regarded as the greatest writer in the English language and the world's greatest dramatist.[2][3][4] He is often called England's national poet and the \"Bard of Avon\" (or simply \"the Bard\").[5][b] His extant works, including collaborations, consist of some 39 plays,[c] 154 sonnets, two long narrative poems, and a few other verses, some of uncertain authorship. His plays have been translated into every major living language and are performed more often than those of any other playwright.'''\n",
    "print(b)"
   ]
  },
  {
   "cell_type": "code",
   "execution_count": 9,
   "metadata": {},
   "outputs": [
    {
     "name": "stdout",
     "output_type": "stream",
     "text": [
      "विलियम शेक्सपीयर (William Shakespeare ; 23 अप्रैल 1564 (बपतिस्मा हुआ) – 23 अप्रैल 1616 ) अंग्रेजी के कवि, काव्यात्मकता के विद्वान नाटककार तथा अभिनेता थे।[1] उनके नाटकों का लगभग सभी प्रमुख भाषाओं में अनुवाद हुआ है।[2]\n",
      "\n",
      "शेक्सपियर में अत्यंत उच्च कोटि की सर्जनात्मक प्रतिभा थी और साथ ही उन्हें कला के नियमों का सहज ज्ञान भी था। प्रकृति से उन्हें मानो वरदान मिला था अत: उन्होंने जो कुछ छू दिया वह सोना हो गया। उनकी रचनाएँ न केवल अंग्रेज जाति के लिए गौरव की वस्तु हैं वरन् विश्ववांमय की भी अमर विभूति हैं। शेक्सपियर की कल्पना जितनी प्रखर थी उतना ही गंभीर उनके जीवन का अनुभव भी था। अत: जहाँ एक ओर उनके नाटकों तथा उनकी कविताओं से आनंद की उपलब्धि होती है वहीं दूसरी ओर उनकी रचनाओं से हमको गंभीर जीवनदर्शन भी प्राप्त होता है। विश्वसाहित्य के इतिहास में शेक्सपियर के समकक्ष रखे जानेवाले विरले ही कवि मिलते हैं।[3] \n"
     ]
    }
   ],
   "source": [
    "l='''विलियम शेक्सपीयर (William Shakespeare ; 23 अप्रैल 1564 (बपतिस्मा हुआ) – 23 अप्रैल 1616 ) अंग्रेजी के कवि, काव्यात्मकता के विद्वान नाटककार तथा अभिनेता थे।[1] उनके नाटकों का लगभग सभी प्रमुख भाषाओं में अनुवाद हुआ है।[2]\n",
    "\n",
    "शेक्सपियर में अत्यंत उच्च कोटि की सर्जनात्मक प्रतिभा थी और साथ ही उन्हें कला के नियमों का सहज ज्ञान भी था। प्रकृति से उन्हें मानो वरदान मिला था अत: उन्होंने जो कुछ छू दिया वह सोना हो गया। उनकी रचनाएँ न केवल अंग्रेज जाति के लिए गौरव की वस्तु हैं वरन् विश्ववांमय की भी अमर विभूति हैं। शेक्सपियर की कल्पना जितनी प्रखर थी उतना ही गंभीर उनके जीवन का अनुभव भी था। अत: जहाँ एक ओर उनके नाटकों तथा उनकी कविताओं से आनंद की उपलब्धि होती है वहीं दूसरी ओर उनकी रचनाओं से हमको गंभीर जीवनदर्शन भी प्राप्त होता है। विश्वसाहित्य के इतिहास में शेक्सपियर के समकक्ष रखे जानेवाले विरले ही कवि मिलते हैं।[3] '''\n",
    "print(l)"
   ]
  },
  {
   "cell_type": "code",
   "execution_count": null,
   "metadata": {},
   "outputs": [],
   "source": []
  }
 ],
 "metadata": {
  "kernelspec": {
   "display_name": "Python 3",
   "language": "python",
   "name": "python3"
  },
  "language_info": {
   "codemirror_mode": {
    "name": "ipython",
    "version": 3
   },
   "file_extension": ".py",
   "mimetype": "text/x-python",
   "name": "python",
   "nbconvert_exporter": "python",
   "pygments_lexer": "ipython3",
   "version": "3.7.4"
  }
 },
 "nbformat": 4,
 "nbformat_minor": 2
}
