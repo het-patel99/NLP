{
 "cells": [
  {
   "cell_type": "code",
   "execution_count": 1,
   "metadata": {},
   "outputs": [],
   "source": [
    "from summarize import *  \n",
    "from language import *  "
   ]
  },
  {
   "cell_type": "code",
   "execution_count": 2,
   "metadata": {},
   "outputs": [],
   "source": [
    "from nltk import corpus, tokenize, stem\n",
    "\n",
    "\n",
    "__all__ = ['LanguageProcessor']\n",
    "\n",
    "\n",
    "class LanguageProcessor(object):\n",
    "    def __init__(self, language):\n",
    "        self.language = language\n",
    "        self.stopwords = corpus.stopwords.words(language)\n",
    "        self.stemmer = stem.SnowballStemmer(language)\n",
    "\n",
    "    def split_sentences(self, text):\n",
    "        return tokenize.sent_tokenize(text, self.language)\n",
    "\n",
    "    def extract_significant_words(self, sentence):\n",
    "        return set(\n",
    "            word for word in tokenize.word_tokenize(sentence)\n",
    "            if word.isalnum() and word not in self.stopwords\n",
    "        )\n",
    "\n",
    "    def stem(self, word):\n",
    "        return self.stemmer.stem(word)"
   ]
  },
  {
   "cell_type": "code",
   "execution_count": 3,
   "metadata": {},
   "outputs": [
    {
     "ename": "ImportError",
     "evalue": "cannot import name 'LanguageProcessor' from 'language' (C:\\ProgramData\\Anaconda3\\lib\\site-packages\\language\\__init__.py)",
     "output_type": "error",
     "traceback": [
      "\u001b[1;31m---------------------------------------------------------------------------\u001b[0m",
      "\u001b[1;31mImportError\u001b[0m                               Traceback (most recent call last)",
      "\u001b[1;32m<ipython-input-3-603185bbfbd7>\u001b[0m in \u001b[0;36m<module>\u001b[1;34m\u001b[0m\n\u001b[0;32m      5\u001b[0m \u001b[1;32mfrom\u001b[0m \u001b[0mnetworkx\u001b[0m \u001b[1;32mimport\u001b[0m \u001b[0mGraph\u001b[0m\u001b[1;33m,\u001b[0m \u001b[0mpagerank\u001b[0m\u001b[1;33m\u001b[0m\u001b[1;33m\u001b[0m\u001b[0m\n\u001b[0;32m      6\u001b[0m \u001b[1;33m\u001b[0m\u001b[0m\n\u001b[1;32m----> 7\u001b[1;33m \u001b[1;32mfrom\u001b[0m \u001b[0mlanguage\u001b[0m \u001b[1;32mimport\u001b[0m \u001b[0mLanguageProcessor\u001b[0m\u001b[1;33m\u001b[0m\u001b[1;33m\u001b[0m\u001b[0m\n\u001b[0m\u001b[0;32m      8\u001b[0m \u001b[1;33m\u001b[0m\u001b[0m\n\u001b[0;32m      9\u001b[0m \u001b[1;33m\u001b[0m\u001b[0m\n",
      "\u001b[1;31mImportError\u001b[0m: cannot import name 'LanguageProcessor' from 'language' (C:\\ProgramData\\Anaconda3\\lib\\site-packages\\language\\__init__.py)"
     ]
    }
   ],
   "source": [
    "from itertools import combinations\n",
    "from operator import itemgetter\n",
    "\n",
    "from distance import jaccard\n",
    "from networkx import Graph, pagerank\n",
    "\n",
    "from language import LanguageProcessor\n",
    "\n",
    "\n",
    "__all__ = ['summarize']\n",
    "\n",
    "\n",
    "def summarize(text, sentence_count=5, language='english'):\n",
    "    processor = LanguageProcessor(language)\n",
    "\n",
    "    sentence_list = processor.split_sentences(text)\n",
    "    wordset_list = map(processor.extract_significant_words, sentence_list)\n",
    "    stemsets = [\n",
    "        {processor.stem(word) for word in wordset}\n",
    "        for wordset in wordset_list\n",
    "    ]\n",
    "\n",
    "    graph = Graph()\n",
    "    pairs = combinations(enumerate(stemsets), 2)\n",
    "    for (index_a, stems_a), (index_b, stems_b) in pairs:\n",
    "        if stems_a and stems_b:\n",
    "            similarity = 1 - jaccard(stems_a, stems_b)\n",
    "            if similarity > 0:\n",
    "                graph.add_edge(index_a, index_b, weight=similarity)\n",
    "    return ' '.join(sentence_list[index] for index in best_sentences_in_order)"
   ]
  },
  {
   "cell_type": "code",
   "execution_count": null,
   "metadata": {},
   "outputs": [],
   "source": [
    "    "
   ]
  }
 ],
 "metadata": {
  "kernelspec": {
   "display_name": "Python 3",
   "language": "python",
   "name": "python3"
  },
  "language_info": {
   "codemirror_mode": {
    "name": "ipython",
    "version": 3
   },
   "file_extension": ".py",
   "mimetype": "text/x-python",
   "name": "python",
   "nbconvert_exporter": "python",
   "pygments_lexer": "ipython3",
   "version": "3.7.4"
  }
 },
 "nbformat": 4,
 "nbformat_minor": 2
}
