{
 "cells": [
  {
   "cell_type": "code",
   "execution_count": 8,
   "metadata": {},
   "outputs": [
    {
     "name": "stdout",
     "output_type": "stream",
     "text": [
      "[0.0554689  0.07491481 0.04932013 0.2722278  0.19110445 0.35696391]\n"
     ]
    }
   ],
   "source": [
    "import numpy as np\n",
    "from scipy.sparse import csc_matrix\n",
    "\n",
    "def pageRank(G, s = 0.9, maxerr = 0.05):\n",
    "    n = G.shape[0]\n",
    "\n",
    "    # transform G into markov matrix M\n",
    "    M = csc_matrix(G,dtype=np.float)\n",
    "    rsums = np.array(M.sum(1))[:,0]\n",
    "    ri, ci = M.nonzero()\n",
    "    M.data /= rsums[ri]\n",
    "\n",
    "    # bool array of sink states\n",
    "    sink = rsums==0\n",
    "\n",
    "    # Compute pagerank r until we converge\n",
    "    ro, r = np.zeros(n), np.ones(n)\n",
    "    while np.sum(np.abs(r-ro)) > maxerr:\n",
    "        ro = r.copy()\n",
    "        # calculate each pagerank at a time\n",
    "        for i in range(0,n):\n",
    "            # inlinks of state i\n",
    "            Ii = np.array(M[:,i].todense())[:,0]\n",
    "            # account for sink states\n",
    "            Si = sink / float(n)\n",
    "            # account for teleportation to state i\n",
    "            Ti = np.ones(n) / float(n)\n",
    "\n",
    "            r[i] = ro.dot( Ii*s + Si*s + Ti*(1-s) )\n",
    "\n",
    "    # return normalized pagerank\n",
    "    return r/sum(r)\n",
    "\n",
    "\n",
    "\n",
    "\n",
    "if __name__=='__main__':\n",
    "    # Example extracted from 'Introduction to Information Retrieval'\n",
    "    G = np.array([[0,1,1,0,0,0],\n",
    "                  [0,0,0,0,0,0],\n",
    "                  [1,1,0,0,1,0],\n",
    "                  [0,0,0,0,1,1],\n",
    "                  [0,0,0,1,0,1],\n",
    "                  [0,0,0,1,0,0]])\n",
    "\n",
    "    print(pageRank(G,s=0.9))"
   ]
  },
  {
   "cell_type": "code",
   "execution_count": null,
   "metadata": {},
   "outputs": [],
   "source": []
  }
 ],
 "metadata": {
  "kernelspec": {
   "display_name": "Python 3",
   "language": "python",
   "name": "python3"
  },
  "language_info": {
   "codemirror_mode": {
    "name": "ipython",
    "version": 3
   },
   "file_extension": ".py",
   "mimetype": "text/x-python",
   "name": "python",
   "nbconvert_exporter": "python",
   "pygments_lexer": "ipython3",
   "version": "3.7.4"
  }
 },
 "nbformat": 4,
 "nbformat_minor": 2
}
